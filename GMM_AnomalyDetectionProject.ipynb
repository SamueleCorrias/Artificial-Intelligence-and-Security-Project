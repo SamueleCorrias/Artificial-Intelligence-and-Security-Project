{
  "cells": [
    {
      "cell_type": "markdown",
      "source": [
        "#*FASE 0:* Analisi agente e ambiente"
      ],
      "metadata": {
        "id": "0an4UaH6uoAT"
      }
    },
    {
      "cell_type": "markdown",
      "source": [
        "L'agente di \"anomaly detection\" è un sistema informatico sviluppato per identificare comportamenti, dati o eventi insoliti che deviano da quelli ritenuti normali in specifici contesti."
      ],
      "metadata": {
        "id": "HZrXREakwj-v"
      }
    },
    {
      "cell_type": "markdown",
      "source": [
        "Le carattestiche di un'agente di anomaly detection sono:\n",
        "\n",
        "\n",
        "*   *Capacità di apprendimento:* l'agente utilizza tecniche di machine learning e data mining per apprendere dalla normalità dei dati storici. Questo può includere algoritmi di clustering, classificazione o reti neurali.\n",
        "*   *Sensibilità ai cambiamenti:* è progettato per essere altamente sensibile ai piccoli cambiamenti nei dati, cosa essenziale per rilevare tempesticamente le anomalie.\n",
        "*   *Adattabilità:* ha la capacità di adattarsi nel tempo alle nuove normalità, cosa cruciale in ambienti dinamici dove i pattern di dati possono evolversi.\n",
        "*   *Automazione:*  Opera in modo autonomo per segnalare anomalie senza la necessità di un intervento umano costante, permettendo risparmio di tempo e risorse.\n",
        "\n"
      ],
      "metadata": {
        "id": "ojQDzccHxT93"
      }
    },
    {
      "cell_type": "markdown",
      "source": [
        "Le caratteristiche dell'ambiente in cui opera sono:\n",
        "\n",
        "*   *Ambiente dinamico:* in questo caso, l'agente opera in un'ambiente che cambia mentre l'agente sta decidendo come agire.\n",
        "*   *Grande volume dei dati:* l'ambiente tipicamente gestisce enormi quantità di dati. L'agente deve essere in grado di processare e analizzare i dati in tempo reale o in batch, a seconda delle necessità.\n",
        "*   *Variabilità dei dati:* l'ambiente può avere dati provenienti da diverse fonti e di diversi tipi (numerici, categorici, testuali, etc.) che richiedono metodologie di preelaborazione specifiche.\n",
        "*   *Requisiti di velocità:* in contesti come l'analisi delle anomalie nelle folle, la rapidità nella rilevazione delle anomalie è cruciale per evitare e/o limitare i danni.\n",
        "*   *Privacy e sicurezza:* gli ambienti che trattano dati sensibili richiedono che l'agente mantenga elevati standard di sicurezza e conformità alle normative sulla privacy dei dati.\n",
        "\n"
      ],
      "metadata": {
        "id": "ovD8P_Vvyq0z"
      }
    },
    {
      "cell_type": "markdown",
      "source": [
        "#*FASE 1:* Preparazione e analisi dei dati"
      ],
      "metadata": {
        "id": "QKID7vnUwogZ"
      }
    },
    {
      "cell_type": "markdown",
      "source": [
        "##1.1 - Importazione delle librerie"
      ],
      "metadata": {
        "id": "YN9TLH7Dunq5"
      }
    },
    {
      "cell_type": "code",
      "source": [
        "from pydrive2.auth import GoogleAuth\n",
        "from pydrive2.drive import GoogleDrive\n",
        "from google.colab import auth\n",
        "from oauth2client.client import GoogleCredentials\n",
        "import os\n",
        "import pickle\n",
        "import cv2\n",
        "import numpy as np\n",
        "import h5py\n",
        "from IPython.display import HTML, display\n",
        "from sklearn.decomposition import IncrementalPCA\n",
        "from sklearn.mixture import GaussianMixture\n",
        "import matplotlib.pyplot as plt\n",
        "from sklearn.metrics import roc_curve, auc\n",
        "#modello LSTM\n",
        "import shutil\n",
        "import tensorflow as tf\n",
        "from tensorflow.keras.models import Sequential\n",
        "from tensorflow.keras.layers import Dense, Dropout, LSTM\n",
        "from sklearn.model_selection import train_test_split\n",
        "from tensorflow.keras.callbacks import EarlyStopping\n",
        "from tensorflow.keras.models import load_model\n",
        "from sklearn.metrics import accuracy_score, precision_score, recall_score, f1_score"
      ],
      "metadata": {
        "id": "sn19eN05qFbi"
      },
      "execution_count": null,
      "outputs": []
    },
    {
      "cell_type": "markdown",
      "source": [
        "##1.2 - Caricamento del dataset"
      ],
      "metadata": {
        "id": "SR957PjQ5y7m"
      }
    },
    {
      "cell_type": "code",
      "execution_count": null,
      "metadata": {
        "colab": {
          "base_uri": "https://localhost:8080/"
        },
        "id": "Pe9OTnP-6Z-F",
        "outputId": "7b804c49-2ab1-43b2-9572-c437f6497cae"
      },
      "outputs": [
        {
          "output_type": "stream",
          "name": "stdout",
          "text": [
            "Archive:  dataset_progettoIAS.zip\n",
            "   creating: anomaly/\n",
            "  inflating: anomaly/001_label_4.mp4  \n",
            "  inflating: anomaly/002_label_4.mp4  \n",
            "  inflating: anomaly/003_label_4.mp4  \n",
            "  inflating: anomaly/004_label_4.mp4  \n",
            "  inflating: anomaly/005_label_4.mp4  \n",
            "  inflating: anomaly/006_label_4.mp4  \n",
            "  inflating: anomaly/007_label_4.mp4  \n",
            "  inflating: anomaly/008_label_4.mp4  \n",
            "  inflating: anomaly/009_label_4.mp4  \n",
            "  inflating: anomaly/010_label_4.mp4  \n",
            "  inflating: anomaly/011_label_4.mp4  \n",
            "  inflating: anomaly/012_label_1.mp4  \n",
            "  inflating: anomaly/013_label_1.mp4  \n",
            "  inflating: anomaly/014_label_1.mp4  \n",
            "  inflating: anomaly/015_label_1.mp4  \n",
            "  inflating: anomaly/016_label_1.mp4  \n",
            "  inflating: anomaly/017_label_1.mp4  \n",
            "  inflating: anomaly/025_label_1.mp4  \n",
            "  inflating: anomaly/026_label_1.mp4  \n",
            "  inflating: anomaly/027_label_1.mp4  \n",
            "  inflating: anomaly/027_label_4.mp4  \n",
            "  inflating: anomaly/030_label_1.mp4  \n",
            "  inflating: anomaly/031_label_1.mp4  \n",
            "  inflating: anomaly/desktop.ini     \n",
            "   creating: normal/\n",
            "  inflating: normal/cut_cut_001_label_6.mp4  \n",
            "  inflating: normal/cut_cut_002_label_6.mp4  \n",
            "  inflating: normal/cut_cut_003_label_6.mp4  \n",
            "  inflating: normal/cut_cut_004_label_6.mp4  \n",
            "  inflating: normal/cut_cut_005_label_6.mp4  \n",
            "  inflating: normal/cut_cut_006_label_6.mp4  \n",
            "  inflating: normal/cut_cut_007_label_6.mp4  \n",
            "  inflating: normal/cut_cut_008_label_6.mp4  \n",
            "  inflating: normal/cut_cut_009_label_6.mp4  \n",
            "  inflating: normal/cut_cut_010_label_6.mp4  \n",
            "  inflating: normal/cut_cut_011_label_6.mp4  \n",
            "  inflating: normal/cut_cut_012_label_6.mp4  \n",
            "  inflating: normal/cut_cut_013_label_6.mp4  \n",
            "  inflating: normal/cut_cut_014_label_6.mp4  \n",
            "  inflating: normal/cut_cut_015_label_6.mp4  \n",
            "  inflating: normal/cut_cut_016_label_6.mp4  \n",
            "  inflating: normal/cut_cut_017_label_6.mp4  \n",
            "  inflating: normal/cut_cut_018_label_6.mp4  \n",
            "  inflating: normal/cut_cut_019_label_6.mp4  \n",
            "  inflating: normal/cut_cut_020_label_6.mp4  \n",
            "  inflating: normal/cut_cut_021_label_6.mp4  \n",
            "  inflating: normal/cut_cut_022_label_6.mp4  \n",
            "  inflating: normal/cut_cut_023_label_6.mp4  \n",
            "  inflating: normal/cut_cut_024_label_6.mp4  \n",
            "  inflating: normal/cut_cut_025_label_6.mp4  \n",
            "  inflating: normal/cut_cut_026_label_6.mp4  \n",
            "  inflating: normal/cut_cut_027_label_6.mp4  \n",
            "  inflating: normal/cut_cut_028_label_6.mp4  \n",
            "  inflating: normal/cut_cut_029_label_6.mp4  \n",
            "  inflating: normal/cut_cut_030_label_6.mp4  \n",
            "Done! Run the BSIF Filters download code.\n"
          ]
        }
      ],
      "source": [
        "auth.authenticate_user()\n",
        "gauth = GoogleAuth()\n",
        "gauth.credentials = GoogleCredentials.get_application_default()\n",
        "drive = GoogleDrive(gauth)\n",
        "\n",
        "downloaded = drive.CreateFile({'id': '18xwgyRJGx_DHPW3n0RuH7N28Z_icf9wg'})\n",
        "downloaded.GetContentFile('dataset_progettoIAS.zip')\n",
        "!unzip dataset_progettoIAS\n",
        "print('Done! Run the BSIF Filters download code.')"
      ]
    },
    {
      "cell_type": "code",
      "execution_count": null,
      "metadata": {
        "id": "DBcX1SYJfNP2",
        "colab": {
          "base_uri": "https://localhost:8080/"
        },
        "outputId": "8e5c18ab-fa83-4ee6-964f-3ad464d2fcc3"
      },
      "outputs": [
        {
          "output_type": "stream",
          "name": "stdout",
          "text": [
            "Mounted at /content/drive\n"
          ]
        }
      ],
      "source": [
        "#mount del drive per caricare i dati salvati\n",
        "from google.colab import drive\n",
        "drive.mount('/content/drive')"
      ]
    },
    {
      "cell_type": "markdown",
      "source": [
        "##1.3 - Analisi preliminare del dataset"
      ],
      "metadata": {
        "id": "DPhz4j926AtZ"
      }
    },
    {
      "cell_type": "code",
      "execution_count": null,
      "metadata": {
        "colab": {
          "base_uri": "https://localhost:8080/"
        },
        "id": "Xkz-053i7J1p",
        "outputId": "82bc814b-7666-4d9a-aa6f-0eba741d9236"
      },
      "outputs": [
        {
          "output_type": "stream",
          "name": "stdout",
          "text": [
            "Campioni normali:  30\n",
            "Campioni con anomalie:  24\n"
          ]
        }
      ],
      "source": [
        "dataset_path = '/content'\n",
        "\n",
        "num_campioni_normal = len(os.listdir(os.path.join(dataset_path, 'normal')))\n",
        "num_campioni_anomaly = len(os.listdir(os.path.join(dataset_path, 'anomaly')))\n",
        "\n",
        "print(\"Campioni normali: \", num_campioni_normal)\n",
        "print(\"Campioni con anomalie: \", num_campioni_anomaly)"
      ]
    },
    {
      "cell_type": "markdown",
      "source": [
        "##1.4 - Estrazione dei frames"
      ],
      "metadata": {
        "id": "d_mh_Ssb6TDw"
      }
    },
    {
      "cell_type": "markdown",
      "source": [
        "###1.4.1 - Definizione della funzione che va a estrarre i frame dal video *.mp4* e li raggruppa in un vettore"
      ],
      "metadata": {
        "id": "jtyesvNHqQTi"
      }
    },
    {
      "cell_type": "markdown",
      "source": [
        "La funzione inoltre ci permette di selezionare quanti fps vogliamo mantenere per ottimizzare il costo computazionale"
      ],
      "metadata": {
        "id": "corE7zCAMGRN"
      }
    },
    {
      "cell_type": "code",
      "execution_count": null,
      "metadata": {
        "id": "h3GzqztPDoSc"
      },
      "outputs": [],
      "source": [
        "#fps = numero di frame al secondo che si vogliono far leggere\n",
        "def load_data(directory, fps):\n",
        "    frames = []\n",
        "\n",
        "    # Scorrere ogni file nella directory principale\n",
        "    for file_name in os.listdir(directory):\n",
        "        file_path = os.path.join(directory, file_name)  # Percorso del file\n",
        "\n",
        "        # Caricare i frame se il file è un video MP4\n",
        "        if file_path.endswith(\".mp4\"):\n",
        "            video = cv2.VideoCapture(file_path)\n",
        "            video_fps = video.get(cv2.CAP_PROP_FPS)  # FPS del video\n",
        "            frame_skip = round(video_fps / fps)  # Calcola ogni quanti frame leggere\n",
        "\n",
        "            frame_index = 0\n",
        "            while True:\n",
        "                success, frame = video.read()\n",
        "                if not success:\n",
        "                    break\n",
        "\n",
        "                # Leggi un frame ogni 'frame_skip' frame\n",
        "                if frame_index % frame_skip == 0:\n",
        "                    frame_gray = cv2.cvtColor(frame, cv2.COLOR_BGR2GRAY)\n",
        "                    frames.append(frame_gray)\n",
        "\n",
        "                frame_index += 1\n",
        "\n",
        "            video.release()\n",
        "\n",
        "    print(\"Number of frames:\", len(frames))\n",
        "    return frames\n"
      ]
    },
    {
      "cell_type": "markdown",
      "source": [
        "###1.4.2 - Estrazione dei frames e visualizzazione, sia per il dataset *normal* che *anomaly*"
      ],
      "metadata": {
        "id": "sQeJY7KDqXLq"
      }
    },
    {
      "cell_type": "code",
      "source": [
        "frames_normal = load_data('/content/normal', 6 ) # Vengono presi 6 frames al secondo"
      ],
      "metadata": {
        "id": "83c9pfFvqUf-",
        "colab": {
          "base_uri": "https://localhost:8080/"
        },
        "outputId": "3260bfde-b623-4830-f161-a4f38488a462"
      },
      "execution_count": null,
      "outputs": [
        {
          "output_type": "stream",
          "name": "stdout",
          "text": [
            "Number of frames: 1762\n"
          ]
        }
      ]
    },
    {
      "cell_type": "code",
      "source": [
        "# Visualizzazione di un frames di un campione normale.\n",
        "frames_normal[0]"
      ],
      "metadata": {
        "id": "1shSg_GhqcYV",
        "colab": {
          "base_uri": "https://localhost:8080/"
        },
        "outputId": "7ec0bbbd-94e2-4c23-d678-6b17b8cb3938"
      },
      "execution_count": null,
      "outputs": [
        {
          "output_type": "execute_result",
          "data": {
            "text/plain": [
              "array([[2, 2, 2, ..., 0, 0, 0],\n",
              "       [2, 2, 2, ..., 0, 0, 0],\n",
              "       [2, 2, 2, ..., 0, 0, 0],\n",
              "       ...,\n",
              "       [0, 0, 0, ..., 0, 0, 0],\n",
              "       [0, 0, 0, ..., 0, 0, 0],\n",
              "       [0, 0, 0, ..., 0, 0, 0]], dtype=uint8)"
            ],
            "text/html": [
              "<style>\n",
              "      .ndarray_repr .ndarray_raw_data {\n",
              "        display: none;\n",
              "      }\n",
              "      .ndarray_repr.show_array .ndarray_raw_data {\n",
              "        display: block;\n",
              "      }\n",
              "      .ndarray_repr.show_array .ndarray_image_preview {\n",
              "        display: none;\n",
              "      }\n",
              "      </style>\n",
              "      <div id=\"id-7c8e82e9-7406-4df1-89a1-a56f506087ba\" class=\"ndarray_repr\"><pre>ndarray (480, 854) <button style=\"padding: 0 2px;\">show data</button></pre><img src=\"data:image/png;base64,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\" class=\"ndarray_image_preview\" /><pre class=\"ndarray_raw_data\">array([[2, 2, 2, ..., 0, 0, 0],\n",
              "       [2, 2, 2, ..., 0, 0, 0],\n",
              "       [2, 2, 2, ..., 0, 0, 0],\n",
              "       ...,\n",
              "       [0, 0, 0, ..., 0, 0, 0],\n",
              "       [0, 0, 0, ..., 0, 0, 0],\n",
              "       [0, 0, 0, ..., 0, 0, 0]], dtype=uint8)</pre></div><script>\n",
              "      (() => {\n",
              "      const titles = ['show data', 'hide data'];\n",
              "      let index = 0\n",
              "      document.querySelector('#id-7c8e82e9-7406-4df1-89a1-a56f506087ba button').onclick = (e) => {\n",
              "        document.querySelector('#id-7c8e82e9-7406-4df1-89a1-a56f506087ba').classList.toggle('show_array');\n",
              "        index = (++index) % 2;\n",
              "        document.querySelector('#id-7c8e82e9-7406-4df1-89a1-a56f506087ba button').textContent = titles[index];\n",
              "        e.preventDefault();\n",
              "        e.stopPropagation();\n",
              "      }\n",
              "      })();\n",
              "    </script>"
            ]
          },
          "metadata": {},
          "execution_count": 7
        }
      ]
    },
    {
      "cell_type": "code",
      "execution_count": null,
      "metadata": {
        "id": "EAxe-ZrXECke",
        "colab": {
          "base_uri": "https://localhost:8080/"
        },
        "outputId": "2c3fdcb5-5221-4d93-98ef-4541b1229e41"
      },
      "outputs": [
        {
          "output_type": "stream",
          "name": "stdout",
          "text": [
            "Number of frames: 1594\n"
          ]
        }
      ],
      "source": [
        "frames_anomaly = load_data('/content/anomaly', 6) # Vengono presi 6 frames al secondo"
      ]
    },
    {
      "cell_type": "code",
      "execution_count": null,
      "metadata": {
        "id": "sVckyhhVEIQu",
        "colab": {
          "base_uri": "https://localhost:8080/"
        },
        "outputId": "8953a657-a59e-432b-d064-d38afb3b8b5d"
      },
      "outputs": [
        {
          "output_type": "execute_result",
          "data": {
            "text/plain": [
              "array([[2, 2, 2, ..., 0, 0, 0],\n",
              "       [2, 2, 2, ..., 0, 0, 0],\n",
              "       [2, 2, 2, ..., 0, 0, 0],\n",
              "       ...,\n",
              "       [0, 0, 0, ..., 0, 0, 0],\n",
              "       [0, 0, 0, ..., 0, 0, 0],\n",
              "       [0, 0, 0, ..., 0, 0, 0]], dtype=uint8)"
            ],
            "text/html": [
              "<style>\n",
              "      .ndarray_repr .ndarray_raw_data {\n",
              "        display: none;\n",
              "      }\n",
              "      .ndarray_repr.show_array .ndarray_raw_data {\n",
              "        display: block;\n",
              "      }\n",
              "      .ndarray_repr.show_array .ndarray_image_preview {\n",
              "        display: none;\n",
              "      }\n",
              "      </style>\n",
              "      <div id=\"id-8f60cfea-5e70-44d1-acdc-47430352f355\" class=\"ndarray_repr\"><pre>ndarray (480, 854) <button style=\"padding: 0 2px;\">show data</button></pre><img src=\"data:image/png;base64,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\" class=\"ndarray_image_preview\" /><pre class=\"ndarray_raw_data\">array([[2, 2, 2, ..., 0, 0, 0],\n",
              "       [2, 2, 2, ..., 0, 0, 0],\n",
              "       [2, 2, 2, ..., 0, 0, 0],\n",
              "       ...,\n",
              "       [0, 0, 0, ..., 0, 0, 0],\n",
              "       [0, 0, 0, ..., 0, 0, 0],\n",
              "       [0, 0, 0, ..., 0, 0, 0]], dtype=uint8)</pre></div><script>\n",
              "      (() => {\n",
              "      const titles = ['show data', 'hide data'];\n",
              "      let index = 0\n",
              "      document.querySelector('#id-8f60cfea-5e70-44d1-acdc-47430352f355 button').onclick = (e) => {\n",
              "        document.querySelector('#id-8f60cfea-5e70-44d1-acdc-47430352f355').classList.toggle('show_array');\n",
              "        index = (++index) % 2;\n",
              "        document.querySelector('#id-8f60cfea-5e70-44d1-acdc-47430352f355 button').textContent = titles[index];\n",
              "        e.preventDefault();\n",
              "        e.stopPropagation();\n",
              "      }\n",
              "      })();\n",
              "    </script>"
            ]
          },
          "metadata": {},
          "execution_count": 9
        }
      ],
      "source": [
        "# Visualizzazione di un frames di un campione anomaly.\n",
        "frames_anomaly[0]"
      ]
    },
    {
      "cell_type": "markdown",
      "source": [
        "##1.5 - Funzione per estrazione delle features"
      ],
      "metadata": {
        "id": "8Vijcl8uB_gG"
      }
    },
    {
      "cell_type": "code",
      "source": [
        "#funzione per la barra di avanzamento\n",
        "def progress(value, max=100):\n",
        "    return HTML(\"\"\"<progress value='{value}' max='{max}' style='width: 100%'>\n",
        "            {value}\n",
        "        </progress>\"\"\".format(value=value, max=max))\n",
        "\n",
        "#funzione per l'estrazione delle features\n",
        "def extract_features_chunked(frames, chunk_size=100, output_file=None):\n",
        "    print('Extracting Optical Flow and additional features from frames...')\n",
        "    out = display(progress(0, len(frames)), display_id=True)\n",
        "    kk = 0\n",
        "    all_features = []\n",
        "\n",
        "    if output_file is not None:\n",
        "        h5f = h5py.File(output_file, 'w')  # Apre il file solo se output_file non è None\n",
        "        dset = None\n",
        "\n",
        "\n",
        "    for start in range(0, len(frames) - 1, chunk_size):\n",
        "        end = min(start + chunk_size, len(frames) - 1)\n",
        "        chunk_features = []\n",
        "\n",
        "        for i in range(start, end):\n",
        "            frame1 = frames[i]\n",
        "            frame2 = frames[i + 1]\n",
        "\n",
        "            # Calculate optical flow with Farneback method\n",
        "            flow = cv2.calcOpticalFlowFarneback(frame1, frame2, None, 0.5, 3, 15, 3, 5, 1.2, 0)\n",
        "\n",
        "            # Calculate magnitude and angle of the flow\n",
        "            mag, ang = cv2.cartToPolar(flow[..., 0], flow[..., 1])\n",
        "\n",
        "            # Calculate features:\n",
        "            mean_mag = np.mean(mag)\n",
        "            std_mag = np.std(mag)\n",
        "            median_ang = np.median(ang)\n",
        "\n",
        "            # Aggregate features into a single array\n",
        "            frame_features = np.array([mean_mag, std_mag, median_ang])\n",
        "\n",
        "            # Flatten the flow and combine it with other features\n",
        "            chunk_features.append(np.concatenate([flow.reshape(-1), frame_features]))\n",
        "\n",
        "            kk += 1\n",
        "            out.update(progress(kk, len(frames)))\n",
        "\n",
        "        # Convert chunk features to a numpy array\n",
        "        chunk_features = np.array(chunk_features)\n",
        "        all_features.append(chunk_features)\n",
        "\n",
        "\n",
        "        # Save chunk features to the HDF5 file if available\n",
        "        if output_file is not None:\n",
        "            if dset is None:\n",
        "                dset = h5f.create_dataset('features', data=chunk_features, maxshape=(None, chunk_features.shape[1]), chunks=True)\n",
        "            else:\n",
        "                dset.resize(dset.shape[0] + chunk_features.shape[0], axis=0)\n",
        "                dset[-chunk_features.shape[0]:] = chunk_features\n",
        "\n",
        "        # Free memory by deleting chunk_features\n",
        "        del chunk_features\n",
        "    if output_file is not None:\n",
        "      print(f\"Features saved to {output_file}\")\n",
        "    return np.vstack(all_features)"
      ],
      "metadata": {
        "id": "AkwWGhB3lRE2"
      },
      "execution_count": null,
      "outputs": []
    },
    {
      "cell_type": "markdown",
      "source": [
        "##1.6 - Estrazione features *normal*"
      ],
      "metadata": {
        "id": "z5qWzhiY2rH4"
      }
    },
    {
      "cell_type": "markdown",
      "source": [
        "Estrazione delle features **senza** anomalie: viene specificato il path del file contenente le features.\n",
        "\n",
        "Se questo è già stato creato viene caricato senza svolgere di nuovo l'estrazione, mentre se non esiste le features vengono estratte.\n",
        "\n",
        "Se invece non si vogliono salvare le features in un file viene impostato il parametro _output_file_ a _None_."
      ],
      "metadata": {
        "id": "Rg6x1_IXqyBC"
      }
    },
    {
      "cell_type": "code",
      "source": [
        "output_path = '/content/drive/MyDrive/AnomalyDetection/Features/features_combined_normal.h5'\n",
        "\n",
        "if os.path.exists(output_path):\n",
        "    print(f\"Loading features from {output_path}\")\n",
        "    with h5py.File(output_path, 'r') as h5f:\n",
        "        features_normal = h5f['features'][:]\n",
        "else:\n",
        "    print(\"Features file does not exist, extracting features...\")\n",
        "\n",
        "    # Se si vogliono estrarre le feature senza salvarle in memoria si setta output_file a None\n",
        "    features_normal = extract_features_chunked(frames_normal, chunk_size=100, output_file=None)\n",
        "\n",
        "print(f\"Loaded features shape: {features_normal.shape}\")"
      ],
      "metadata": {
        "id": "3GA9GsLBlTRe",
        "colab": {
          "base_uri": "https://localhost:8080/"
        },
        "outputId": "6998baac-f9b5-40aa-8516-7f97e7c75021"
      },
      "execution_count": null,
      "outputs": [
        {
          "output_type": "stream",
          "name": "stdout",
          "text": [
            "Features file does not exist, extracting features...\n",
            "Extracting Optical Flow and additional features from frames...\n"
          ]
        },
        {
          "output_type": "display_data",
          "data": {
            "text/plain": [
              "<IPython.core.display.HTML object>"
            ],
            "text/html": [
              "<progress value='1761' max='1762' style='width: 100%'>\n",
              "            1761\n",
              "        </progress>"
            ]
          },
          "metadata": {}
        }
      ]
    },
    {
      "cell_type": "markdown",
      "source": [
        "##1.7 - Riduzione delle dimensionalità delle features *normal* con PCA"
      ],
      "metadata": {
        "id": "i3eukZamzCUD"
      }
    },
    {
      "cell_type": "markdown",
      "source": [
        "La riduzione delle dimensionalità delle features con PCA è una tecnica molto utilizzata nel pre-processing dei dati per diversi motivi fondamentali:\n",
        "\n",
        "*   Riduzione del rumore;\n",
        "*   Evitare l'overfitting;\n",
        "*   Interpretazione dei dati;\n",
        "*   Miglioramento dell'efficienza computazionale.\n",
        "\n"
      ],
      "metadata": {
        "id": "EXJoJTKy9kcc"
      }
    },
    {
      "cell_type": "markdown",
      "source": [
        "### 1.7.1 - Funzione per la riduzione delle dimensionalità delle features *normal* con PCA"
      ],
      "metadata": {
        "id": "9ATyvqHf-IZr"
      }
    },
    {
      "cell_type": "code",
      "source": [
        "def reduce_dimensionality(features, n_components = 233):\n",
        "  data = np.array(features)\n",
        "\n",
        "  ipca = IncrementalPCA(n_components=n_components, batch_size=400)\n",
        "  ipca.fit(data)\n",
        "  reduced_data = ipca.transform(data)\n",
        "\n",
        "  return reduced_data\n",
        "\n",
        "reduced_data_normal = reduce_dimensionality(features_normal)"
      ],
      "metadata": {
        "id": "k3cf_3i-yy2h"
      },
      "execution_count": null,
      "outputs": []
    },
    {
      "cell_type": "markdown",
      "source": [
        "###1.7.2 - Rappresentazione della dimensione dell'array Numpy"
      ],
      "metadata": {
        "id": "jIIS4INS-cm-"
      }
    },
    {
      "cell_type": "code",
      "source": [
        "reduced_data_normal.shape"
      ],
      "metadata": {
        "id": "EB58DBlwzBX3"
      },
      "execution_count": null,
      "outputs": []
    },
    {
      "cell_type": "markdown",
      "source": [
        "### 1.7.3 - Salvataggio features *normal* in caso di out della RAM"
      ],
      "metadata": {
        "id": "RYqVuObu-utz"
      }
    },
    {
      "cell_type": "code",
      "source": [
        "#salvataggio feature in caso di out of RAM\n",
        "with open('/content/drive/MyDrive/AnomalyDetection/Features/reduced_data.pkl', 'wb') as file:\n",
        "    pickle.dump(reduced_data_normal, file)\n",
        "#salviamo anche il modello per la successiva riduzione dei flussi del TEST set\n",
        "# with open('/content/drive/MyDrive/AnomalyDetection/Features/ipca.pkl', 'wb') as file:\n",
        "#     pickle.dump(ipca, file)"
      ],
      "metadata": {
        "id": "fWsZkkyX0mg2"
      },
      "execution_count": null,
      "outputs": []
    },
    {
      "cell_type": "markdown",
      "source": [
        "##1.8 - Estrazione features *anomaly*"
      ],
      "metadata": {
        "id": "D9lS1hn13SnR"
      }
    },
    {
      "cell_type": "markdown",
      "source": [
        "Estrazione delle features **con** anomalie: viene specificato il path del file contenente le features.\n",
        "\n",
        "Se questo è già stato creato viene caricato senza svolgere di nuovo l'estrazione, mentre se non esiste le features vengono estratte.\n",
        "\n",
        "Se invece non si vogliono salvare le features in un file viene impostato il parametro *output_file* a *None*."
      ],
      "metadata": {
        "id": "PoLlsyq5BhVh"
      }
    },
    {
      "cell_type": "code",
      "source": [
        "output_path = '/content/drive/MyDrive/AnomalyDetection/Features/features_combined_anomaly.h5' #mettere il path in cui si vuole salvare il file\n",
        "\n",
        "if os.path.exists(output_path):\n",
        "    print(f\"Loading features from {output_path}\")\n",
        "    with h5py.File(output_path, 'r') as h5f:\n",
        "        features_anomaly = h5f['features'][:]\n",
        "else:\n",
        "    print(\"Features file does not exist, extracting features...\")\n",
        "    #se si vogliono estrarre le feature senza salvarle in memoria si setta output_file a None\n",
        "    features_anomaly = extract_features_chunked(frames_anomaly, chunk_size=100, output_file=None)\n",
        "\n",
        "print(f\"Loaded features shape: {features_anomaly.shape}\")\n"
      ],
      "metadata": {
        "id": "Ao_hEVR53Snh"
      },
      "execution_count": null,
      "outputs": []
    },
    {
      "cell_type": "markdown",
      "source": [
        "##1.9 - Riduzione delle dimensionalità delle features *anomaly* con PCA"
      ],
      "metadata": {
        "id": "Ig6tcMqQ6Wji"
      }
    },
    {
      "cell_type": "markdown",
      "source": [
        "###1.9.1 - Richiamo funzione per la riduzione delle dimensionalità delle features *anomaly* con PCA"
      ],
      "metadata": {
        "id": "hveLXOJsDDpe"
      }
    },
    {
      "cell_type": "code",
      "source": [
        "reduced_data_anomaly = reduce_dimensionality(features_anomaly)"
      ],
      "metadata": {
        "id": "tbGAqBEH6Wjj"
      },
      "execution_count": null,
      "outputs": []
    },
    {
      "cell_type": "markdown",
      "source": [
        "###1.9.2 - Rappresentazione della dimensione dell'array Numpy"
      ],
      "metadata": {
        "id": "Whk401CvDVBz"
      }
    },
    {
      "cell_type": "code",
      "source": [
        "reduced_data_anomaly.shape"
      ],
      "metadata": {
        "id": "MurKI63L6Wjk"
      },
      "execution_count": null,
      "outputs": []
    },
    {
      "cell_type": "markdown",
      "source": [
        "###1.9.3 - Salvataggio delle features *anomaly* in caso di out della RAM"
      ],
      "metadata": {
        "id": "vhs6db98DbvK"
      }
    },
    {
      "cell_type": "code",
      "source": [
        "#salvataggio feature in caso di out of RAM\n",
        "with open('/content/drive/MyDrive/AnomalyDetection/Features/reduced_data_anomaly.pkl', 'wb') as file:\n",
        "    pickle.dump(reduced_data_anomaly, file)\n",
        "\n",
        "#salviamo anche il modello per la successiva riduzione dei flussi del TEST set\n",
        "# with open('/content/drive/MyDrive/AnomalyDetection/Features/ipca_anomaly.pkl', 'wb') as file:\n",
        "#     pickle.dump(ipca_anomaly, file)"
      ],
      "metadata": {
        "id": "6MPIjZa56Wjk"
      },
      "execution_count": null,
      "outputs": []
    },
    {
      "cell_type": "markdown",
      "source": [
        "##1.10 - Caricamento dei dati salvati dal Drive"
      ],
      "metadata": {
        "id": "F27mVC-FwIqr"
      }
    },
    {
      "cell_type": "markdown",
      "source": [
        "###1.10.1 - Caricamento dei dati *normal*"
      ],
      "metadata": {
        "id": "ybNJxvbeDwE1"
      }
    },
    {
      "cell_type": "code",
      "source": [
        "with open('/content/drive/MyDrive/AnomalyDetection/Features/reduced_data.pkl', 'rb') as file:\n",
        "   reduced_data_normal = pickle.load(file)"
      ],
      "metadata": {
        "id": "L_sUZgV_wPkl"
      },
      "execution_count": null,
      "outputs": []
    },
    {
      "cell_type": "markdown",
      "source": [
        "###1.10.2 - Caricamento dei dati *anomaly*"
      ],
      "metadata": {
        "id": "DNdmLOrXD0vV"
      }
    },
    {
      "cell_type": "code",
      "source": [
        "with open('/content/drive/MyDrive/AnomalyDetection/Features/reduced_data_anomaly.pkl', 'rb') as file:\n",
        "   reduced_data_anomaly = pickle.load(file)"
      ],
      "metadata": {
        "id": "DRGChS6XwbZX"
      },
      "execution_count": null,
      "outputs": []
    },
    {
      "cell_type": "code",
      "source": [
        "from google.colab import drive\n",
        "drive.mount('/content/drive')"
      ],
      "metadata": {
        "id": "TyQvHc2ibs0Q"
      },
      "execution_count": null,
      "outputs": []
    },
    {
      "cell_type": "markdown",
      "source": [
        "#*FASE 2:* Implementazione dell'anomaly detector"
      ],
      "metadata": {
        "id": "lFiv0MOezHvz"
      }
    },
    {
      "cell_type": "markdown",
      "source": [
        "##2.1 - Gaussian Mixture Model (GMM)"
      ],
      "metadata": {
        "id": "86f28-9VEoDP"
      }
    },
    {
      "cell_type": "markdown",
      "source": [
        "Il **GMM** è un modello statistico probabilistico che assume che tutti i dati campionati provengano da una combinazione di un numero finito di distribuzioni gaussiane con parametri ignoti.\n",
        "\n",
        "GMM è particolarmente utile in applicazioni di clustering perché non solo assegna un punto dati di cluster più probabile, ma fornisce anche una probabilità di appartenenza a ciascun cluster, rendendolo una scelta eccellente per situazioni in cui i dati possono avere sovrapposizioni tra i cluster."
      ],
      "metadata": {
        "id": "oi9MeNEDF0XB"
      }
    },
    {
      "cell_type": "code",
      "source": [
        "# Array per conservare i valori di BIC e AIC\n",
        "bics = []\n",
        "aics = []\n",
        "n_components_range = range(1, 11)  # Prova da 1 a 10 componenti\n",
        "\n",
        "for n_components in n_components_range:\n",
        "    gmm = GaussianMixture(n_components=n_components, covariance_type='full', random_state=42)\n",
        "    gmm.fit(reduced_data_normal)\n",
        "    bics.append(gmm.bic(reduced_data_normal))\n",
        "    aics.append(gmm.aic(reduced_data_normal))\n",
        "\n",
        "# Creazione dei grafici di BIC e AIC\n",
        "plt.figure(figsize=(12, 6))\n",
        "plt.plot(n_components_range, bics, label='BIC', marker='o')\n",
        "plt.plot(n_components_range, aics, label='AIC', marker='o')\n",
        "plt.xlabel('Number of Components')\n",
        "plt.ylabel('Information Criterion')\n",
        "plt.legend()\n",
        "plt.title('BIC and AIC for Different Number of Components')\n",
        "plt.grid(True)\n",
        "plt.show()"
      ],
      "metadata": {
        "id": "-BaGVXaS2FHA"
      },
      "execution_count": null,
      "outputs": []
    },
    {
      "cell_type": "markdown",
      "source": [
        "###2.1.1 - Lettura dei dati dal Drive"
      ],
      "metadata": {
        "id": "wdqhyDitHajy"
      }
    },
    {
      "cell_type": "code",
      "source": [
        "import pickle\n",
        "from sklearn.mixture import GaussianMixture\n",
        "with open('/content/drive/MyDrive/AnomalyDetection/Features/reduced_data.pkl', 'rb') as file:\n",
        "   reduced_data_normal = pickle.load(file)"
      ],
      "metadata": {
        "id": "Yq2Aqp4OzHVP"
      },
      "execution_count": null,
      "outputs": []
    },
    {
      "cell_type": "markdown",
      "source": [
        "###2.1.2 - Training del GMM"
      ],
      "metadata": {
        "id": "27kJ2UPlHioM"
      }
    },
    {
      "cell_type": "markdown",
      "source": [
        "Scegliamo 3 facendo riferimento al grafico, il punto in cui le due funzioni iniziano ad allontanarsi è il punto che selezioniamo, in modo da evitare overfitting."
      ],
      "metadata": {
        "id": "kCotYqJzMnqM"
      }
    },
    {
      "cell_type": "code",
      "source": [
        "gmm = GaussianMixture(n_components=3, random_state=0)\n",
        "gmm.fit(reduced_data_normal)"
      ],
      "metadata": {
        "id": "d5toi8KQHhUL"
      },
      "execution_count": null,
      "outputs": []
    },
    {
      "cell_type": "markdown",
      "source": [
        "###2.1.3 - Salvataggio modello su Drive"
      ],
      "metadata": {
        "id": "qBy617-NHqEx"
      }
    },
    {
      "cell_type": "code",
      "source": [
        "with open('/content/drive/MyDrive/AnomalyDetection/Features/gmm.pkl', 'wb') as file:\n",
        "    pickle.dump(gmm, file)"
      ],
      "metadata": {
        "id": "qvBkBsN6Hwke"
      },
      "execution_count": null,
      "outputs": []
    },
    {
      "cell_type": "markdown",
      "source": [
        "##2.2 - Calcolo degli score dei campioni di train *normal*"
      ],
      "metadata": {
        "id": "TlzZf43-B138"
      }
    },
    {
      "cell_type": "code",
      "source": [
        "with open('/content/drive/MyDrive/AnomalyDetection/Features/gmm.pkl', 'rb') as file:\n",
        "   gmm = pickle.load(file)\n",
        "\n",
        "scores_train = []\n",
        "\n",
        "for d in reduced_data_normal:\n",
        "  d = d.reshape(1,-1)\n",
        "  score = gmm.score_samples(d)\n",
        "  scores_train.append(score)"
      ],
      "metadata": {
        "id": "-iRjtWXSB3r7"
      },
      "execution_count": null,
      "outputs": []
    },
    {
      "cell_type": "code",
      "source": [
        "print(np.mean(scores_train))\n",
        "print(np.std(scores_train))"
      ],
      "metadata": {
        "id": "twZnkXO-B7j5"
      },
      "execution_count": null,
      "outputs": []
    },
    {
      "cell_type": "markdown",
      "source": [
        "##2.3 - Stampa degli score GMM per frame"
      ],
      "metadata": {
        "id": "BKE_9msaJkMC"
      }
    },
    {
      "cell_type": "code",
      "source": [
        "import matplotlib.pyplot as plt\n",
        "def plot_scores(scores):\n",
        "    plt.figure(figsize=(10, 5))\n",
        "    plt.plot(scores, marker='o', linestyle='-', color='b')\n",
        "    plt.title('GMM Scores per Frame')\n",
        "    plt.xlabel('Numero Frame')\n",
        "    plt.ylabel('Score')\n",
        "    plt.grid(True)\n",
        "    plt.show()\n",
        "\n",
        "plot_scores(scores_train)"
      ],
      "metadata": {
        "id": "nrUXmwc6B9Pb"
      },
      "execution_count": null,
      "outputs": []
    },
    {
      "cell_type": "markdown",
      "source": [
        "##2.4 - Definizione della soglia *threshold*"
      ],
      "metadata": {
        "id": "r2lFCoo7CEkM"
      }
    },
    {
      "cell_type": "code",
      "source": [
        "mean_score = np.mean(scores_train)\n",
        "std_dev_score = np.std(scores_train)\n",
        "\n",
        "# Definire una soglia; in questo esempio, 2 deviazioni standard sotto la media\n",
        "threshold = mean_score - 8*(std_dev_score)"
      ],
      "metadata": {
        "id": "L1WZyfO4CJru"
      },
      "execution_count": null,
      "outputs": []
    },
    {
      "cell_type": "markdown",
      "source": [
        "##2.5 - Calcolo degli score di test"
      ],
      "metadata": {
        "id": "SHgu2DF8CRDL"
      }
    },
    {
      "cell_type": "code",
      "source": [
        "scores_test = []\n",
        "#with open('/content/gmm.pkl', 'rb') as file:\n",
        "#    gmm = pickle.load(file)\n",
        "for d in reduced_data_anomaly:\n",
        "  d = d.reshape(1,-1)\n",
        "  score = gmm.score_samples(d)\n",
        "  scores_test.append(score)"
      ],
      "metadata": {
        "id": "vKZknEI5CQio"
      },
      "execution_count": null,
      "outputs": []
    },
    {
      "cell_type": "code",
      "source": [
        "print(np.mean(scores_test))\n",
        "print(np.std(scores_test))\n",
        "#threshold=np.mean(scores_test) - (2*(np.std(scores_test)))"
      ],
      "metadata": {
        "id": "RfgoFUgJCbBj"
      },
      "execution_count": null,
      "outputs": []
    },
    {
      "cell_type": "markdown",
      "source": [
        "## 2.6 - Rappresentazione degli score di test"
      ],
      "metadata": {
        "id": "P3ZgH-j_KvvH"
      }
    },
    {
      "cell_type": "code",
      "source": [
        "plot_scores(scores_test)"
      ],
      "metadata": {
        "id": "s7fVHo23CXYf"
      },
      "execution_count": null,
      "outputs": []
    },
    {
      "cell_type": "markdown",
      "source": [
        "##2.7 - Valutazione e calcolo outliers"
      ],
      "metadata": {
        "id": "zr9LZ0afCndQ"
      }
    },
    {
      "cell_type": "code",
      "source": [
        "# Identificare gli score anomali\n",
        "anomalies = scores_test < threshold\n",
        "\n",
        "# Visualizzare gli score e la soglia\n",
        "plt.figure(figsize=(10, 5))\n",
        "plt.plot(scores_test, label='GMM Scores')\n",
        "plt.axhline(y=threshold, color='r', linestyle='--', label='Threshold')\n",
        "plt.legend()\n",
        "plt.title('GMM Scores with Anomaly Threshold')\n",
        "plt.xlabel('Frame Index')\n",
        "plt.ylabel('Score')\n",
        "plt.show()\n",
        "\n",
        "# Stampare gli indici dei frame anomali\n",
        "anomalous_indices = np.where(anomalies)[0]\n",
        "print(\"Anomalous frames at indices:\", anomalous_indices)"
      ],
      "metadata": {
        "id": "oIQwc6pqCry6"
      },
      "execution_count": null,
      "outputs": []
    },
    {
      "cell_type": "markdown",
      "source": [
        "##2.8 - Valutazione delle metriche"
      ],
      "metadata": {
        "id": "ZbyfWT-p1IhG"
      }
    },
    {
      "cell_type": "markdown",
      "source": [
        "Creazione del vettore delle true labels e quello delle previsioni, che ci serviranno per fare le corrette valutazioni."
      ],
      "metadata": {
        "id": "pbBTxgh2saje"
      }
    },
    {
      "cell_type": "code",
      "source": [
        "num_anomalous_frames = len(reduced_data_anomaly)  # Numero di frame anomali\n",
        "true_vector = np.ones(num_anomalous_frames, dtype=int)  # Tutti i frame sono anomali\n",
        "\n",
        "# 'anomalous_indices' contiene gli indici dei frame che il modello GMM ha classificato come anomali\n",
        "total_frames = max(max(anomalous_indices), num_anomalous_frames)   # Calcolo il numero totale dei frame considerati\n",
        "predicted_vector = np.zeros(total_frames, dtype=int)  # Inizializzo tutti i frame come normali\n",
        "\n",
        "for i in anomalous_indices:\n",
        "  predicted_vector[anomalous_indices] = 1  # Segno come anomali i frame identificati dal GMM\n"
      ],
      "metadata": {
        "id": "iYE1ur28uhAa"
      },
      "execution_count": null,
      "outputs": []
    },
    {
      "cell_type": "code",
      "source": [
        "# Calcola TP, FP, TN, FN\n",
        "\n",
        "def invert(a):\n",
        "  return np.logical_not(a).astype(int)\n",
        "\n",
        "true_positives = np.sum(predicted_vector & true_vector)\n",
        "false_positives = np.sum(predicted_vector & invert(true_vector))\n",
        "true_negatives = np.sum(invert(predicted_vector) & invert(true_vector))\n",
        "false_negatives = np.sum(invert(predicted_vector) & true_vector)\n",
        "\n",
        "accuracy = (true_positives + true_negatives) / total_frames\n",
        "precision = true_positives / (true_positives + false_positives) if (true_positives + false_positives) > 0 else 0\n",
        "recall = true_positives / (true_positives + false_negatives) if (true_positives + false_negatives) > 0 else 0\n",
        "f1_score = 2 * (precision * recall) / (precision + recall) if (precision + recall) > 0 else 0\n",
        "\n",
        "# Stampa i risultati\n",
        "print(f\"Accuratezza: {accuracy:.4f}\")\n",
        "print(f\"Precision: {precision:.4f}\")\n",
        "print(f\"Recall: {recall:.4f}\")\n",
        "print(f\"F1-Score: {f1_score:.4f}\")\n"
      ],
      "metadata": {
        "id": "b0Mh6aBCuiwe"
      },
      "execution_count": null,
      "outputs": []
    },
    {
      "cell_type": "code",
      "source": [
        "print(f\"TP: {true_positives:.4f}\")\n",
        "print(f\"FP: {false_positives:.4f}\")\n",
        "print(f\"TN: {true_negatives:.4f}\")\n",
        "print(f\"FN: {false_negatives:.4f}\")"
      ],
      "metadata": {
        "id": "tEGRysYvsuPg"
      },
      "execution_count": null,
      "outputs": []
    },
    {
      "cell_type": "code",
      "source": [
        "import numpy as np\n",
        "from sklearn.metrics import roc_curve, auc\n",
        "import matplotlib.pyplot as plt\n",
        "\n",
        "# Assumi che `predicted_probabilities` sia un array delle probabilità di anomalia per ogni frame\n",
        "# Esempio: predicted_probabilities = model.predict_proba(data)[:, 1] se il modello supporta predict_proba\n",
        "\n",
        "# Calcolare i tassi FPR, TPR, e i threshold\n",
        "fpr, tpr, thresholds = roc_curve(true_vector, predicted_vector)\n",
        "\n",
        "# Calcolare l'area sotto la curva (AUC)\n",
        "roc_auc = auc(fpr, tpr)\n",
        "\n",
        "# Visualizzare la Curva ROC\n",
        "plt.figure()\n",
        "plt.plot(fpr, tpr, color='darkorange', lw=2, label=f'ROC curve (area = {roc_auc:.2f})')\n",
        "plt.plot([0, 1], [0, 1], color='navy', lw=2, linestyle='--')\n",
        "plt.xlim([0.0, 1.0])\n",
        "plt.ylim([0.0, 1.05])\n",
        "plt.xlabel('False Positive Rate')\n",
        "plt.ylabel('True Positive Rate')\n",
        "plt.title('Receiver Operating Characteristic')\n",
        "plt.legend(loc=\"lower right\")\n",
        "plt.show()\n"
      ],
      "metadata": {
        "id": "Wd4dr5Iv9A2b"
      },
      "execution_count": null,
      "outputs": []
    },
    {
      "cell_type": "markdown",
      "source": [
        "#*FASE 3:* Analisi dei risultati\n"
      ],
      "metadata": {
        "id": "BunbSmUDHn_1"
      }
    },
    {
      "cell_type": "markdown",
      "source": [
        "##3.1 - Caricamento del video di prova"
      ],
      "metadata": {
        "id": "k4ROMv5fNShT"
      }
    },
    {
      "cell_type": "code",
      "source": [
        "auth.authenticate_user()\n",
        "gauth = GoogleAuth()\n",
        "gauth.credentials = GoogleCredentials.get_application_default()\n",
        "drive = GoogleDrive(gauth)\n",
        "\n",
        "downloaded = drive.CreateFile({'id': '1o4cCkeUCrV6-FY_y4ron8PEVbAngRfp0'})\n",
        "downloaded.GetContentFile('video_prof_IAS.zip')\n",
        "!unzip video_prof_IAS\n",
        "\n",
        "print('Done! Run the BSIF Filters download code.')"
      ],
      "metadata": {
        "id": "YnGrZgXVE5yC"
      },
      "execution_count": null,
      "outputs": []
    },
    {
      "cell_type": "markdown",
      "source": [
        "##3.2 - Estrazione dei frames e visualizzazione"
      ],
      "metadata": {
        "id": "RoOP5XmbNz0N"
      }
    },
    {
      "cell_type": "code",
      "source": [
        "frames_video_test = load_data(\"/content\", 6) # Vengono presi 6 frames al secondo"
      ],
      "metadata": {
        "id": "E314ENBOIM16"
      },
      "execution_count": null,
      "outputs": []
    },
    {
      "cell_type": "code",
      "source": [
        "frames_video_test[0]"
      ],
      "metadata": {
        "id": "UbZboeTYIZC_"
      },
      "execution_count": null,
      "outputs": []
    },
    {
      "cell_type": "markdown",
      "source": [
        "##3.3 - Estrazione delle features"
      ],
      "metadata": {
        "id": "lR4AzHcIOGAx"
      }
    },
    {
      "cell_type": "code",
      "source": [
        "output_path = '/content/drive/MyDrive/AnomalyDetection/Features/features_video_test.h5'\n",
        "\n",
        "if os.path.exists(output_path):\n",
        "    print(f\"Loading features from {output_path}\")\n",
        "    with h5py.File(output_path, 'r') as h5f:\n",
        "        features_video_test = h5f['features'][:]\n",
        "else:\n",
        "    print(\"Features file does not exist, extracting features...\")\n",
        "    #se si vogliono estrarre le feature senza salvarle in memoria si setta output_file a None\n",
        "    features_video_test = extract_features_chunked(frames_video_test, chunk_size=100, output_file=None)\n",
        "\n",
        "print(f\"Loaded features shape: {features_video_test.shape}\")"
      ],
      "metadata": {
        "id": "EmVTTdRdImwU"
      },
      "execution_count": null,
      "outputs": []
    },
    {
      "cell_type": "markdown",
      "source": [
        "Andiamo a concatenare le features appena estratte per permettere al modello statistico GMM di avere abbastanza dati in ingresso."
      ],
      "metadata": {
        "id": "Mm6gsN1MOMSn"
      }
    },
    {
      "cell_type": "code",
      "source": [
        "features2=np.concatenate((features_video_test,features_video_test), axis=0)\n",
        "features2.shape"
      ],
      "metadata": {
        "id": "7cJK3nSBLtJt"
      },
      "execution_count": null,
      "outputs": []
    },
    {
      "cell_type": "markdown",
      "source": [
        "Andiamo a ridurre le dimensionalità delle features appena concatenate. Se sono già presenti nel drive vengono caricate, altrimenti viene ridotta la dimensionalità"
      ],
      "metadata": {
        "id": "a13CJ7heO49F"
      }
    },
    {
      "cell_type": "code",
      "source": [
        "reduced_data_path = '/content/drive/MyDrive/AnomalyDetection/Features/reduced_data_test.pkl'\n",
        "\n",
        "if os.path.exists(reduced_data_path):\n",
        "  print(f\"Loading data from {output_path}\")\n",
        "  with open(reduced_data_path, 'rb') as file:\n",
        "   reduced_data_test = pickle.load(file)\n",
        "else:\n",
        "  print(\"Data file does not exist, reducing dimensionality\")\n",
        "  reduced_data_test = reduce_dimensionality(features_video_test)\n",
        "  #salvataggio feature in caso di out of RAM\n",
        "  with open('/content/drive/MyDrive/AnomalyDetection/Features/reduced_data_test.pkl', 'wb') as file:\n",
        "    pickle.dump(reduced_data_test, file)"
      ],
      "metadata": {
        "id": "UJ8JQ7XWtCPs"
      },
      "execution_count": null,
      "outputs": []
    },
    {
      "cell_type": "code",
      "source": [
        "reduced_data_test.shape"
      ],
      "metadata": {
        "id": "uyArZPRGLKbP"
      },
      "execution_count": null,
      "outputs": []
    },
    {
      "cell_type": "code",
      "source": [
        "reduced_data_test = reduced_data_test[:,:233]"
      ],
      "metadata": {
        "id": "5mrBe55pNwsB"
      },
      "execution_count": null,
      "outputs": []
    },
    {
      "cell_type": "markdown",
      "source": [
        "##3.4 - Calcolo degli score"
      ],
      "metadata": {
        "id": "Ymv1EOwutPtz"
      }
    },
    {
      "cell_type": "code",
      "source": [
        "scores_video_test = []\n",
        "#with open('/content/gmm.pkl', 'rb') as file:\n",
        "#    gmm = pickle.load(file)\n",
        "for d in reduced_data_test:\n",
        "  d = d.reshape(1,-1)\n",
        "  score = gmm.score_samples(d)\n",
        "  scores_video_test.append(score)"
      ],
      "metadata": {
        "id": "9qNckBDoNEYm"
      },
      "execution_count": null,
      "outputs": []
    },
    {
      "cell_type": "code",
      "source": [
        "# mean_score = np.mean(scores_video)\n",
        "# std_dev_score = np.std(scores_video)\n",
        "\n",
        "# # Definire una soglia; in questo esempio, 2 deviazioni standard sotto la media\n",
        "# threshold = mean_score - std_dev_score"
      ],
      "metadata": {
        "id": "INAr23oKJBg1"
      },
      "execution_count": null,
      "outputs": []
    },
    {
      "cell_type": "markdown",
      "source": [
        "##3.5 - Creazione del vettore di ground truth"
      ],
      "metadata": {
        "id": "dp4EFecyPQMb"
      }
    },
    {
      "cell_type": "markdown",
      "source": [
        "*Creazione del vettore di ground truth:* i valori dei frame senza anomalia sono stati impostati manualmente a 0 e quelli con anomalie sono stati impostati manualmente a 1.\n",
        "\n",
        "Il labeling è stato fatto per testare la precisione del modello statistico."
      ],
      "metadata": {
        "id": "Eu6yBsoFtZuT"
      }
    },
    {
      "cell_type": "code",
      "source": [
        "true_vector_video = np.zeros(len(features2), dtype = int)\n",
        "true_vector_video[155:233] = 1\n",
        "true_vector_video[387:465] = 1"
      ],
      "metadata": {
        "id": "3wOWIoTntddR"
      },
      "execution_count": null,
      "outputs": []
    },
    {
      "cell_type": "markdown",
      "source": [
        "##3.6 - Idenficazione delle anomalie e visualizzazione"
      ],
      "metadata": {
        "id": "hw-EoQCVP1W1"
      }
    },
    {
      "cell_type": "code",
      "source": [
        "# Identificare gli score anomali\n",
        "anomalies = scores_video_test < threshold\n",
        "\n",
        "# Visualizzare gli score e la soglia\n",
        "plt.figure(figsize=(10, 5))\n",
        "plt.plot(scores_video_test, label='GMM Scores')\n",
        "plt.axhline(y=threshold, color='r', linestyle='--', label='Threshold')\n",
        "plt.legend()\n",
        "plt.title('GMM Scores with Anomaly Threshold')\n",
        "plt.xlabel('Frame Index')\n",
        "plt.ylabel('Score')\n",
        "plt.show()\n",
        "\n",
        "# Stampare gli indici dei frame anomali\n",
        "anomalous_indices = np.where(anomalies)[0]\n",
        "print(\"Anomalous frames at indices:\", anomalous_indices)"
      ],
      "metadata": {
        "id": "KaRk92bzMNGf"
      },
      "execution_count": null,
      "outputs": []
    },
    {
      "cell_type": "markdown",
      "source": [
        "##3.7 - Visualizzazione degli indici reali con anomalie"
      ],
      "metadata": {
        "id": "4Z0MsF4-QQ6t"
      }
    },
    {
      "cell_type": "code",
      "source": [
        "anomalous_frame_indices = [i for i, is_anomalous in enumerate(true_vector_video) if is_anomalous]\n",
        "print(anomalous_frame_indices)"
      ],
      "metadata": {
        "id": "30uhGhtitvbD"
      },
      "execution_count": null,
      "outputs": []
    },
    {
      "cell_type": "markdown",
      "source": [
        "##3.8 - Computazione del vettore anomalia predetto dal modello"
      ],
      "metadata": {
        "id": "uicCJtitQjlE"
      }
    },
    {
      "cell_type": "code",
      "source": [
        "total_frames_test = len(scores_video_test) # Calcolo il numero totale dei frame considerati\n",
        "predicted_vector = np.zeros(total_frames_test, dtype=int)  # Inizializzo tutti i frame come normali\n",
        "\n",
        "# 'anomalous_indices_test' contiene gli indici dei frame che il modello GMM ha classificato come anomali\n",
        "predicted_vector[anomalous_indices] = 1  # Segno come anomali i frame identificati dal GMM"
      ],
      "metadata": {
        "id": "jX8x__hetzmf"
      },
      "execution_count": null,
      "outputs": []
    },
    {
      "cell_type": "markdown",
      "source": [
        "##3.9 - Valutazione del modello"
      ],
      "metadata": {
        "id": "qmDNWvygQyd6"
      }
    },
    {
      "cell_type": "code",
      "source": [
        "# Calcola TP, FP, TN, FN\n",
        "\n",
        "def invert(a):\n",
        "  return np.logical_not(a).astype(int)\n",
        "\n",
        "true_positives = np.sum(predicted_vector & true_vector_video)\n",
        "false_positives = np.sum(predicted_vector & invert(true_vector_video))\n",
        "true_negatives = np.sum(invert(predicted_vector) & invert(true_vector_video))\n",
        "false_negatives = np.sum(invert(predicted_vector) & true_vector_video)\n",
        "\n",
        "accuracy = (true_positives + true_negatives) / total_frames_test\n",
        "precision = true_positives / (true_positives + false_positives) if (true_positives + false_positives) > 0 else 0\n",
        "recall = true_positives / (true_positives + false_negatives) if (true_positives + false_negatives) > 0 else 0\n",
        "f1_score = 2 * (precision * recall) / (precision + recall) if (precision + recall) > 0 else 0\n",
        "\n",
        "# Stampa i risultati\n",
        "print(f\"Accuratezza: {accuracy:.4f}\")\n",
        "print(f\"Precision: {precision:.4f}\")\n",
        "print(f\"Recall: {recall:.4f}\")\n",
        "print(f\"F1-Score: {f1_score:.4f}\")"
      ],
      "metadata": {
        "id": "XWBwWnW4uHml"
      },
      "execution_count": null,
      "outputs": []
    },
    {
      "cell_type": "code",
      "source": [
        "print(f\"TP: {true_positives:.4f}\")\n",
        "print(f\"FP: {false_positives:.4f}\")\n",
        "print(f\"TN: {true_negatives:.4f}\")\n",
        "print(f\"FN: {false_negatives:.4f}\")"
      ],
      "metadata": {
        "id": "AEIW7BK-uJKf"
      },
      "execution_count": null,
      "outputs": []
    },
    {
      "cell_type": "code",
      "source": [
        "# Normalize scores to be between 0 and 1\n",
        "scores_min = np.min(scores_video_test)\n",
        "scores_max = np.max(scores_video_test)\n",
        "normalized_scores = (scores_video_test - scores_min) / (scores_max - scores_min)\n",
        "\n",
        "# Define the ground truth vector as previously done\n",
        "true_vector_video = np.zeros(len(scores_video_test), dtype=int)\n",
        "true_vector_video[155:233] = 1\n",
        "true_vector_video[387:465] = 1\n",
        "\n",
        "# Calculate ROC curve and AUC using the normalized scores\n",
        "fpr, tpr, thresholds = roc_curve(true_vector_video, normalized_scores)\n",
        "roc_auc = auc(fpr, tpr)\n",
        "\n",
        "# Plot the ROC curve\n",
        "plt.figure()\n",
        "plt.plot(fpr, tpr, color='darkorange', lw=2, label='ROC curve (area = %0.2f)' % roc_auc)\n",
        "plt.plot([0, 1], [0, 1], color='navy', lw=2, linestyle='--')\n",
        "plt.xlim([0.0, 1.0])\n",
        "plt.ylim([0.0, 1.05])\n",
        "plt.xlabel('False Positive Rate')\n",
        "plt.ylabel('True Positive Rate')\n",
        "plt.title('Receiver Operating Characteristic (ROC) Curve')\n",
        "plt.legend(loc=\"lower right\")\n",
        "plt.show()"
      ],
      "metadata": {
        "id": "nERyJfpTuKTD"
      },
      "execution_count": null,
      "outputs": []
    },
    {
      "cell_type": "code",
      "source": [
        "# Normalizziamo i punteggi di anomalia tra 0 e 1 se necessario\n",
        "#probabilities = (scores_video_test - np.min(scores_video_test)) / (np.max(scores_video_test) - np.min(scores_video_test))\n",
        "\n",
        "# Calcola la curva ROC e l'AUC\n",
        "fpr, tpr, thresholds = roc_curve(true_vector_video, predicted_vector)\n",
        "roc_auc = auc(fpr, tpr)\n",
        "\n",
        "# Traccia la curva ROC\n",
        "plt.figure()\n",
        "plt.plot(fpr, tpr, color='darkorange', lw=2, label='ROC curve (area = %0.2f)' % roc_auc)\n",
        "plt.plot([0, 1], [0, 1], color='navy', lw=2, linestyle='--')\n",
        "plt.xlim([0.0, 1.0])\n",
        "plt.ylim([0.0, 1.05])\n",
        "plt.xlabel('False Positive Rate')\n",
        "plt.ylabel('True Positive Rate')\n",
        "plt.title('Receiver Operating Characteristic (ROC) Curve')\n",
        "plt.legend(loc=\"lower right\")\n",
        "plt.show()"
      ],
      "metadata": {
        "id": "ev4PSB6zGFZx"
      },
      "execution_count": null,
      "outputs": []
    },
    {
      "cell_type": "markdown",
      "source": [
        "# *FASE 4:* Prova su un video mai visto"
      ],
      "metadata": {
        "id": "HNHEfz-LZGTQ"
      }
    },
    {
      "cell_type": "markdown",
      "source": [
        "##4.1 - Estrazione dei frames e visualizzazione"
      ],
      "metadata": {
        "id": "yu36s22wck_n"
      }
    },
    {
      "cell_type": "code",
      "source": [
        "frames_video_youtube = load_data(\"/content/youtube\",6) # Vengono presi 6 frames al secondo"
      ],
      "metadata": {
        "id": "hSx9WaiWZNam"
      },
      "execution_count": null,
      "outputs": []
    },
    {
      "cell_type": "code",
      "source": [
        "frames_video_youtube[0]"
      ],
      "metadata": {
        "id": "6W6Y9Gl1Zw74"
      },
      "execution_count": null,
      "outputs": []
    },
    {
      "cell_type": "markdown",
      "source": [
        "##4.2 - Estrazione delle features"
      ],
      "metadata": {
        "id": "0teUY2BectWA"
      }
    },
    {
      "cell_type": "code",
      "source": [
        "output_path = '/content/drive/MyDrive/AnomalyDetection/Features/features_video_youtube.h5'\n",
        "\n",
        "if os.path.exists(output_path):\n",
        "    print(f\"Loading features from {output_path}\")\n",
        "    with h5py.File(output_path, 'r') as h5f:\n",
        "        features_video_youtube = h5f['features'][:]\n",
        "else:\n",
        "    print(\"Features file does not exist, extracting features...\")\n",
        "    #se si vogliono estrarre le feature senza salvarle in memoria si setta output_file a None\n",
        "    features_video_youtube = extract_features_chunked(frames_video_youtube, chunk_size=100, output_file=None)\n",
        "\n",
        "print(f\"Loaded features shape: {features_video_youtube.shape}\")"
      ],
      "metadata": {
        "id": "I4K-O-ypaeR2"
      },
      "execution_count": null,
      "outputs": []
    },
    {
      "cell_type": "markdown",
      "source": [
        "## 4.3 - Riduzione della dimensionalità"
      ],
      "metadata": {
        "id": "lWlIP2qRdADA"
      }
    },
    {
      "cell_type": "code",
      "source": [
        "reduced_data_path = '/content/drive/MyDrive/AnomalyDetection/Features/reduced_data_youtube.pkl'\n",
        "\n",
        "if os.path.exists(reduced_data_path):\n",
        "  print(f\"Loading data from {output_path}\")\n",
        "  with open(reduced_data_path, 'rb') as file:\n",
        "   reduced_data_youtube = pickle.load(file)\n",
        "else:\n",
        "  print(\"Data file does not exist, reducing dimensionality\")\n",
        "  reduced_data_youtube = reduce_dimensionality(features_video_youtube)\n",
        "  #salvataggio feature in caso di out of RAM\n",
        "  with open('/content/drive/MyDrive/AnomalyDetection/Features/reduced_data_youtube.pkl', 'wb') as file:\n",
        "    pickle.dump(reduced_data_youtube, file)"
      ],
      "metadata": {
        "id": "1HvceO7bbMWb"
      },
      "execution_count": null,
      "outputs": []
    },
    {
      "cell_type": "code",
      "source": [
        "reduced_data_youtube.shape"
      ],
      "metadata": {
        "id": "7_Iubw6Wbhn4"
      },
      "execution_count": null,
      "outputs": []
    },
    {
      "cell_type": "markdown",
      "source": [
        "## 4.4 - Calcolo degli scores"
      ],
      "metadata": {
        "id": "7ZHAFs36dG-x"
      }
    },
    {
      "cell_type": "code",
      "source": [
        "scores_video_youtube = []\n",
        "#with open('/content/gmm.pkl', 'rb') as file:\n",
        "#    gmm = pickle.load(file)\n",
        "for d in reduced_data_youtube:\n",
        "  d = d.reshape(1,-1)\n",
        "  score = gmm.score_samples(d)\n",
        "  scores_video_youtube.append(score)"
      ],
      "metadata": {
        "id": "Y51vYnw1bpyy"
      },
      "execution_count": null,
      "outputs": []
    },
    {
      "cell_type": "markdown",
      "source": [
        "## 4.5 - Identificazione delle anomalie e visualizzazione"
      ],
      "metadata": {
        "id": "pcwkX51edNRb"
      }
    },
    {
      "cell_type": "code",
      "source": [
        "# Identificare gli score anomali\n",
        "anomalies = scores_video_youtube < threshold\n",
        "\n",
        "# Visualizzare gli score e la soglia\n",
        "plt.figure(figsize=(10, 5))\n",
        "plt.plot(scores_video_youtube, label='GMM Scores')\n",
        "plt.axhline(y=threshold, color='r', linestyle='--', label='Threshold')\n",
        "plt.legend()\n",
        "plt.title('GMM Scores with Anomaly Threshold')\n",
        "plt.xlabel('Frame Index')\n",
        "plt.ylabel('Score')\n",
        "plt.show()\n",
        "\n",
        "# Stampare gli indici dei frame anomali\n",
        "anomalous_indices = np.where(anomalies)[0]\n",
        "print(\"Anomalous frames at indices:\", anomalous_indices)"
      ],
      "metadata": {
        "id": "kOvANzZAb0l8"
      },
      "execution_count": null,
      "outputs": []
    }
  ],
  "metadata": {
    "colab": {
      "provenance": [],
      "gpuType": "T4",
      "collapsed_sections": [
        "0an4UaH6uoAT",
        "QKID7vnUwogZ",
        "YN9TLH7Dunq5",
        "SR957PjQ5y7m",
        "DPhz4j926AtZ",
        "d_mh_Ssb6TDw",
        "jtyesvNHqQTi",
        "8Vijcl8uB_gG",
        "z5qWzhiY2rH4",
        "i3eukZamzCUD",
        "D9lS1hn13SnR",
        "hveLXOJsDDpe",
        "Whk401CvDVBz",
        "vhs6db98DbvK",
        "ybNJxvbeDwE1",
        "DNdmLOrXD0vV",
        "lFiv0MOezHvz",
        "86f28-9VEoDP",
        "TlzZf43-B138",
        "BKE_9msaJkMC",
        "r2lFCoo7CEkM",
        "SHgu2DF8CRDL",
        "P3ZgH-j_KvvH",
        "zr9LZ0afCndQ",
        "ZbyfWT-p1IhG",
        "BunbSmUDHn_1",
        "k4ROMv5fNShT",
        "RoOP5XmbNz0N",
        "lR4AzHcIOGAx",
        "Ymv1EOwutPtz",
        "dp4EFecyPQMb",
        "hw-EoQCVP1W1",
        "4Z0MsF4-QQ6t",
        "uicCJtitQjlE",
        "qmDNWvygQyd6",
        "HNHEfz-LZGTQ",
        "yu36s22wck_n",
        "0teUY2BectWA",
        "lWlIP2qRdADA",
        "7ZHAFs36dG-x",
        "pcwkX51edNRb"
      ],
      "toc_visible": true
    },
    "kernelspec": {
      "display_name": "Python 3",
      "name": "python3"
    },
    "language_info": {
      "name": "python"
    },
    "accelerator": "GPU"
  },
  "nbformat": 4,
  "nbformat_minor": 0
}